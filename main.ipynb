{
 "cells": [
  {
   "cell_type": "code",
   "execution_count": null,
   "id": "d28fdae9-240f-4929-829e-b2082ac5173c",
   "metadata": {
    "execution": {
     "iopub.execute_input": "2025-02-16T17:16:32.741795Z",
     "iopub.status.busy": "2025-02-16T17:16:32.741454Z",
     "iopub.status.idle": "2025-02-16T17:17:53.784801Z",
     "shell.execute_reply": "2025-02-16T17:17:53.784160Z",
     "shell.execute_reply.started": "2025-02-16T17:16:32.741765Z"
    },
    "tags": []
   },
   "outputs": [],
   "source": [
    "sc.install_pypi_package(\"numpy==1.26.4\")\n",
    "sc.install_pypi_package(\"pandas\")\n",
    "sc.install_pypi_package(\"matplotlib\")\n",
    "sc.install_pypi_package(\"altair\")\n",
    "sc.list_packages()"
   ]
  },
  {
   "cell_type": "code",
   "execution_count": null,
   "id": "e1631339-afb2-4c3a-9131-2cf067609420",
   "metadata": {
    "execution": {
     "iopub.execute_input": "2025-02-16T17:19:08.345344Z",
     "iopub.status.busy": "2025-02-16T17:19:08.344796Z",
     "iopub.status.idle": "2025-02-16T17:19:10.671955Z",
     "shell.execute_reply": "2025-02-16T17:19:10.671270Z",
     "shell.execute_reply.started": "2025-02-16T17:19:08.345298Z"
    },
    "tags": []
   },
   "outputs": [],
   "source": [
    "from pyspark.sql import SparkSession\n",
    "from pyspark.sql import functions as F\n",
    "from pyspark.sql.functions import col, avg, stddev, window, year, month\n",
    "from pyspark.ml.regression import DecisionTreeRegressor\n",
    "from pyspark.ml.feature import VectorAssembler\n",
    "from pyspark.sql.window import Window\n",
    "from pyspark.sql.functions import lag\n",
    "from pyspark.ml import Pipeline\n",
    "from pyspark.ml.evaluation import RegressionEvaluator\n",
    "import matplotlib.pyplot as plt\n",
    "import numpy as np\n",
    "import pandas as pd\n",
    "\n",
    "import random\n",
    "from datetime import datetime, timedelta\n"
   ]
  },
  {
   "cell_type": "code",
   "execution_count": null,
   "id": "fa322dd5-62d7-47ba-90e0-d4672b8aee2e",
   "metadata": {
    "execution": {
     "iopub.execute_input": "2025-02-16T17:19:12.025950Z",
     "iopub.status.busy": "2025-02-16T17:19:12.025730Z",
     "iopub.status.idle": "2025-02-16T17:19:12.071618Z",
     "shell.execute_reply": "2025-02-16T17:19:12.070928Z",
     "shell.execute_reply.started": "2025-02-16T17:19:12.025927Z"
    },
    "tags": []
   },
   "outputs": [],
   "source": [
    "spark = SparkSession.builder.appName(\"EnergyConsumptionAnalysis\").getOrCreate()"
   ]
  },
  {
   "cell_type": "code",
   "execution_count": null,
   "id": "ebde186f-9c85-414c-aaa0-1c85d20bda0f",
   "metadata": {
    "execution": {
     "iopub.execute_input": "2025-02-16T17:19:13.492042Z",
     "iopub.status.busy": "2025-02-16T17:19:13.491822Z",
     "iopub.status.idle": "2025-02-16T17:19:13.535682Z",
     "shell.execute_reply": "2025-02-16T17:19:13.534946Z",
     "shell.execute_reply.started": "2025-02-16T17:19:13.492018Z"
    },
    "tags": []
   },
   "outputs": [],
   "source": [
    "s3_bucket = \"aws-emr-studio-624855134767-us-east-1\""
   ]
  },
  {
   "cell_type": "code",
   "execution_count": null,
   "id": "39a26662-e98f-4e70-8848-d952c07466a1",
   "metadata": {
    "execution": {
     "iopub.execute_input": "2025-02-16T17:19:14.277815Z",
     "iopub.status.busy": "2025-02-16T17:19:14.277595Z",
     "iopub.status.idle": "2025-02-16T17:19:29.608196Z",
     "shell.execute_reply": "2025-02-16T17:19:29.607557Z",
     "shell.execute_reply.started": "2025-02-16T17:19:14.277790Z"
    },
    "tags": []
   },
   "outputs": [],
   "source": [
    "csv_path = f\"s3://{s3_bucket}/data/opsd-time_series-2020-10-06/time_series_60min_singleindex.csv\"\n",
    "\n",
    "df = spark.read.csv(csv_path, header=True, inferSchema=True)"
   ]
  },
  {
   "cell_type": "code",
   "execution_count": null,
   "id": "28c7eb8e-5d3e-4ed2-90c6-732fda1fa089",
   "metadata": {
    "execution": {
     "iopub.execute_input": "2025-02-16T17:19:34.399607Z",
     "iopub.status.busy": "2025-02-16T17:19:34.399352Z",
     "iopub.status.idle": "2025-02-16T17:19:34.650434Z",
     "shell.execute_reply": "2025-02-16T17:19:34.649819Z",
     "shell.execute_reply.started": "2025-02-16T17:19:34.399583Z"
    },
    "tags": []
   },
   "outputs": [],
   "source": [
    "df.printSchema()"
   ]
  },
  {
   "cell_type": "code",
   "execution_count": null,
   "id": "9b068b13-894d-404b-adf3-b3989246fb2a",
   "metadata": {
    "execution": {
     "iopub.execute_input": "2025-02-16T17:19:35.505498Z",
     "iopub.status.busy": "2025-02-16T17:19:35.505272Z",
     "iopub.status.idle": "2025-02-16T17:19:35.756030Z",
     "shell.execute_reply": "2025-02-16T17:19:35.755310Z",
     "shell.execute_reply.started": "2025-02-16T17:19:35.505471Z"
    },
    "tags": []
   },
   "outputs": [],
   "source": [
    "all_columns = df.columns\n",
    "fixed_columns = ['utc_timestamp', 'cet_cest_timestamp']\n",
    "\n",
    "country_load_columns = [\n",
    "    col for col in all_columns\n",
    "    if len(col) > 14 and col[2:14] == '_load_actual' and col[:2].isalpha()\n",
    "]\n",
    "\n",
    "columns_to_select = fixed_columns + country_load_columns\n",
    "\n",
    "df_filtered = df.select(*columns_to_select)"
   ]
  },
  {
   "cell_type": "code",
   "execution_count": null,
   "id": "886338dd-e003-489a-93c9-b12598091bac",
   "metadata": {
    "execution": {
     "iopub.execute_input": "2025-02-16T17:19:36.254495Z",
     "iopub.status.busy": "2025-02-16T17:19:36.254259Z",
     "iopub.status.idle": "2025-02-16T17:19:36.298045Z",
     "shell.execute_reply": "2025-02-16T17:19:36.297308Z",
     "shell.execute_reply.started": "2025-02-16T17:19:36.254471Z"
    },
    "tags": []
   },
   "outputs": [],
   "source": [
    "df_filtered.printSchema()"
   ]
  },
  {
   "cell_type": "code",
   "execution_count": null,
   "id": "4501be42-9d3c-422c-b43d-2b7724beb7df",
   "metadata": {
    "execution": {
     "iopub.execute_input": "2025-02-16T17:19:37.185335Z",
     "iopub.status.busy": "2025-02-16T17:19:37.185112Z",
     "iopub.status.idle": "2025-02-16T17:19:37.948923Z",
     "shell.execute_reply": "2025-02-16T17:19:37.947986Z",
     "shell.execute_reply.started": "2025-02-16T17:19:37.185311Z"
    },
    "tags": []
   },
   "outputs": [],
   "source": [
    "columns_to_select = [\"utc_timestamp\", \"PL_load_actual_entsoe_transparency\"]\n",
    "df_filtered = df.select(*columns_to_select)\n",
    "df_filtered = df_filtered.withColumnRenamed(\n",
    "    \"PL_load_actual_entsoe_transparency\", \"energy_consumption\")\n",
    "df_filtered.show(5)"
   ]
  },
  {
   "cell_type": "code",
   "execution_count": null,
   "id": "fa3fa3fe-6bd7-412c-bb44-9274839bda4b",
   "metadata": {
    "execution": {
     "iopub.execute_input": "2025-02-16T17:19:38.140271Z",
     "iopub.status.busy": "2025-02-16T17:19:38.140053Z",
     "iopub.status.idle": "2025-02-16T17:19:38.389190Z",
     "shell.execute_reply": "2025-02-16T17:19:38.388458Z",
     "shell.execute_reply.started": "2025-02-16T17:19:38.140248Z"
    },
    "tags": []
   },
   "outputs": [],
   "source": [
    "df_filtered = df_filtered.dropna()"
   ]
  },
  {
   "cell_type": "code",
   "execution_count": null,
   "id": "79b7a446-9fe9-4478-99dc-85a0ab00ba13",
   "metadata": {
    "execution": {
     "iopub.execute_input": "2025-02-16T17:19:39.215243Z",
     "iopub.status.busy": "2025-02-16T17:19:39.215015Z",
     "iopub.status.idle": "2025-02-16T17:19:44.503470Z",
     "shell.execute_reply": "2025-02-16T17:19:44.502698Z",
     "shell.execute_reply.started": "2025-02-16T17:19:39.215219Z"
    },
    "tags": []
   },
   "outputs": [],
   "source": [
    "df_with_time = df_filtered.withColumn(\"year\", F.year(\"utc_timestamp\")) \\\n",
    "                          .withColumn(\"month\", F.month(\"utc_timestamp\")) \\\n",
    "                          .withColumn(\"day_of_week\", F.dayofweek(\"utc_timestamp\")) \\\n",
    "                          .withColumn(\"hour\", F.hour(\"utc_timestamp\")) \n",
    "\n",
    "window_spec = Window.partitionBy(\"month\", \"day_of_week\")\n",
    "\n",
    "df_stats = df_with_time.withColumn(\"mean\", F.avg(\"energy_consumption\").over(window_spec)) \\\n",
    "                       .withColumn(\"stddev\", F.stddev(\"energy_consumption\").over(window_spec))\n",
    "\n",
    "df_stats = df_stats.withColumn(\"thresh_low\", F.col(\"mean\") - 2 * F.col(\"stddev\")) \\\n",
    "                   .withColumn(\"thresh_high\", F.col(\"mean\") + 2 * F.col(\"stddev\"))\n",
    "\n",
    "df_anomalies = df_stats.filter(\n",
    "    (F.col(\"energy_consumption\") < F.col(\"thresh_low\")) |\n",
    "    (F.col(\"energy_consumption\") > F.col(\"thresh_high\"))).select(\n",
    "        \"utc_timestamp\", \"year\", \"month\", \"day_of_week\", \"hour\", \"energy_consumption\",\n",
    "        \"thresh_low\", \"thresh_high\")\n",
    "\n",
    "df_anomalies.show(20)"
   ]
  },
  {
   "cell_type": "code",
   "execution_count": null,
   "id": "c86f8bfd-1d12-4b49-9231-c83c25f37852",
   "metadata": {
    "execution": {
     "iopub.execute_input": "2025-02-16T17:19:45.281833Z",
     "iopub.status.busy": "2025-02-16T17:19:45.281603Z",
     "iopub.status.idle": "2025-02-16T17:19:50.586352Z",
     "shell.execute_reply": "2025-02-16T17:19:50.585475Z",
     "shell.execute_reply.started": "2025-02-16T17:19:45.281806Z"
    },
    "tags": []
   },
   "outputs": [],
   "source": [
    "df_anomalies_pd = df_anomalies.toPandas()\n",
    "df_filtered_pd = df_filtered.toPandas()\n",
    "\n",
    "plt.figure(figsize=(12, 6))\n",
    "\n",
    "plt.plot(df_filtered_pd[\"utc_timestamp\"],\n",
    "         df_filtered_pd[\"energy_consumption\"],\n",
    "         label=\"Energy Consumption\",\n",
    "         color='blue')\n",
    "\n",
    "plt.scatter(df_anomalies_pd[\"utc_timestamp\"],\n",
    "            df_anomalies_pd[\"energy_consumption\"],\n",
    "            color='red',\n",
    "            label=\"Anomalies\",\n",
    "            zorder=5)\n",
    "\n",
    "plt.xlabel(\"Timestamp\")\n",
    "plt.ylabel(\"Energy Consumption\")\n",
    "plt.title(\"Energy Consumption with Anomalies\")\n",
    "plt.legend()\n",
    "plt.xticks(rotation=45)\n",
    "plt.show()\n",
    "%matplot plt"
   ]
  },
  {
   "cell_type": "code",
   "execution_count": null,
   "id": "091a0cce-e008-47db-a3aa-9749d50da2e2",
   "metadata": {
    "execution": {
     "iopub.execute_input": "2025-02-16T17:19:52.472194Z",
     "iopub.status.busy": "2025-02-16T17:19:52.471961Z",
     "iopub.status.idle": "2025-02-16T17:19:55.742607Z",
     "shell.execute_reply": "2025-02-16T17:19:55.741693Z",
     "shell.execute_reply.started": "2025-02-16T17:19:52.472167Z"
    },
    "tags": []
   },
   "outputs": [],
   "source": [
    "anomalies_timestamps = df_anomalies.select(\"utc_timestamp\").distinct()\n",
    "\n",
    "df_filtered = df_with_time.join(anomalies_timestamps,\n",
    "                               on=\"utc_timestamp\",\n",
    "                               how=\"left_anti\")\n",
    "\n",
    "df_filtered.show(20)"
   ]
  },
  {
   "cell_type": "code",
   "execution_count": null,
   "id": "736fac37-abd9-42a0-9d4c-28a6fc247173",
   "metadata": {
    "execution": {
     "iopub.execute_input": "2025-02-16T17:19:57.003866Z",
     "iopub.status.busy": "2025-02-16T17:19:57.003639Z",
     "iopub.status.idle": "2025-02-16T17:20:00.278009Z",
     "shell.execute_reply": "2025-02-16T17:20:00.277234Z",
     "shell.execute_reply.started": "2025-02-16T17:19:57.003843Z"
    },
    "tags": []
   },
   "outputs": [],
   "source": [
    "window_spec = Window.orderBy(\"utc_timestamp\")\n",
    "\n",
    "df_lagged = df_filtered.withColumn(\"prev_time\", lag(\"utc_timestamp\", 1).over(window_spec)) \\\n",
    "                       .withColumn(\"lag_1\", lag(\"energy_consumption\", 1).over(window_spec)) \\\n",
    "                       .withColumn(\"lag_2\", lag(\"energy_consumption\", 2).over(window_spec)) \\\n",
    "                       .withColumn(\"lag_3\", lag(\"energy_consumption\", 3).over(window_spec))\n",
    "\n",
    "df_lagged = df_lagged.withColumn(\"time_diff\", (col(\"utc_timestamp\").cast(\"long\") - col(\"prev_time\").cast(\"long\")) / 3600)\n",
    "\n",
    "df_lagged = df_lagged.withColumn(\"lag_1\", when(col(\"time_diff\") > 1, None).otherwise(col(\"lag_1\"))) \\\n",
    "                     .withColumn(\"lag_2\", when(col(\"time_diff\") > 1, None)\n",
    "                                         .when(col(\"lag_1\").isNotNull(), lag(\"lag_1\", 1).over(window_spec))) \\\n",
    "                     .withColumn(\"lag_3\", when(col(\"time_diff\") > 1, None)\n",
    "                                         .when(col(\"lag_2\").isNotNull(), lag(\"lag_2\", 1).over(window_spec)))\n",
    "\n",
    "df_lagged = df_lagged.drop(\"prev_time\", \"time_diff\")\n",
    "\n",
    "df_lagged.show()\n"
   ]
  },
  {
   "cell_type": "code",
   "execution_count": null,
   "id": "8e040e44-f441-4194-b7af-c2a6289f0fb0",
   "metadata": {
    "execution": {
     "iopub.execute_input": "2025-02-16T17:20:03.011751Z",
     "iopub.status.busy": "2025-02-16T17:20:03.011518Z",
     "iopub.status.idle": "2025-02-16T17:20:05.283497Z",
     "shell.execute_reply": "2025-02-16T17:20:05.282576Z",
     "shell.execute_reply.started": "2025-02-16T17:20:03.011725Z"
    },
    "tags": []
   },
   "outputs": [],
   "source": [
    "df_lagged = df_lagged.dropna()\n",
    "df_lagged.show()"
   ]
  },
  {
   "cell_type": "code",
   "execution_count": null,
   "id": "d7b6ee1d-9513-46b1-88a6-c8569bc392b8",
   "metadata": {
    "execution": {
     "iopub.execute_input": "2025-02-16T17:20:16.971949Z",
     "iopub.status.busy": "2025-02-16T17:20:16.971707Z",
     "iopub.status.idle": "2025-02-16T17:20:17.243951Z",
     "shell.execute_reply": "2025-02-16T17:20:17.242980Z",
     "shell.execute_reply.started": "2025-02-16T17:20:16.971921Z"
    },
    "tags": []
   },
   "outputs": [],
   "source": [
    "assembler = VectorAssembler(\n",
    "    inputCols=[\"lag_1\", \"lag_2\", \"lag_3\", \"day_of_week\", \"month\", \"hour\"],\n",
    "    outputCol=\"features\")"
   ]
  },
  {
   "cell_type": "code",
   "execution_count": null,
   "id": "ddebee0f-966a-4bff-ac34-b4d7327a4604",
   "metadata": {
    "execution": {
     "iopub.execute_input": "2025-02-16T17:39:55.549299Z",
     "iopub.status.busy": "2025-02-16T17:39:55.549067Z",
     "iopub.status.idle": "2025-02-16T17:39:55.796386Z",
     "shell.execute_reply": "2025-02-16T17:39:55.795607Z",
     "shell.execute_reply.started": "2025-02-16T17:39:55.549274Z"
    },
    "tags": []
   },
   "outputs": [],
   "source": [
    "model = DecisionTreeRegressor(featuresCol=\"features\", labelCol=\"energy_consumption\")\n",
    "\n",
    "pipeline = Pipeline(stages=[assembler, model])\n",
    "\n",
    "train_data, test_data = df_lagged.randomSplit([0.8, 0.2])"
   ]
  },
  {
   "cell_type": "code",
   "execution_count": null,
   "id": "94f3aec8-a11b-4ba9-a2d8-436e0ed015af",
   "metadata": {
    "execution": {
     "iopub.execute_input": "2025-02-16T17:41:16.753002Z",
     "iopub.status.busy": "2025-02-16T17:41:16.752752Z",
     "iopub.status.idle": "2025-02-16T17:41:22.416073Z",
     "shell.execute_reply": "2025-02-16T17:41:22.392610Z",
     "shell.execute_reply.started": "2025-02-16T17:41:16.752976Z"
    },
    "tags": []
   },
   "outputs": [],
   "source": [
    "model = pipeline.fit(train_data)"
   ]
  },
  {
   "cell_type": "code",
   "execution_count": null,
   "id": "0c0d1142-b9e3-4e2e-8752-31718b366371",
   "metadata": {
    "execution": {
     "iopub.execute_input": "2025-02-16T17:41:27.402864Z",
     "iopub.status.busy": "2025-02-16T17:41:27.402639Z",
     "iopub.status.idle": "2025-02-16T17:41:29.715636Z",
     "shell.execute_reply": "2025-02-16T17:41:29.714721Z",
     "shell.execute_reply.started": "2025-02-16T17:41:27.402839Z"
    },
    "tags": []
   },
   "outputs": [],
   "source": [
    "predictions = model.transform(test_data)\n",
    "predictions.select(\"utc_timestamp\", \"energy_consumption\", \"prediction\").show()"
   ]
  },
  {
   "cell_type": "code",
   "execution_count": null,
   "id": "4013876e-9205-496f-9fb0-b201e4c4651b",
   "metadata": {
    "execution": {
     "iopub.execute_input": "2025-02-16T17:41:29.807475Z",
     "iopub.status.busy": "2025-02-16T17:41:29.807227Z",
     "iopub.status.idle": "2025-02-16T17:41:33.185301Z",
     "shell.execute_reply": "2025-02-16T17:41:33.184662Z",
     "shell.execute_reply.started": "2025-02-16T17:41:29.807447Z"
    },
    "tags": []
   },
   "outputs": [],
   "source": [
    "evaluator = RegressionEvaluator(predictionCol=\"prediction\",\n",
    "                                labelCol=\"energy_consumption\",\n",
    "                                metricName=\"rmse\")\n",
    "rmse = evaluator.evaluate(predictions)\n",
    "print(f\"RMSE: {rmse}\")"
   ]
  },
  {
   "cell_type": "code",
   "execution_count": null,
   "id": "65084ac2-7359-4172-9517-d45c2e0bbf63",
   "metadata": {
    "execution": {
     "iopub.execute_input": "2025-02-16T17:37:31.206856Z",
     "iopub.status.busy": "2025-02-16T17:37:31.206629Z",
     "iopub.status.idle": "2025-02-16T17:37:48.586850Z",
     "shell.execute_reply": "2025-02-16T17:37:48.586192Z",
     "shell.execute_reply.started": "2025-02-16T17:37:31.206831Z"
    },
    "tags": []
   },
   "outputs": [],
   "source": [
    "predictions_pd = predictions.select(\"utc_timestamp\", \"energy_consumption\",\n",
    "                                    \"prediction\").toPandas()\n",
    "predictions_pd['utc_timestamp'] = pd.to_datetime(\n",
    "    predictions_pd['utc_timestamp'])\n",
    "predictions_pd['year'] = predictions_pd['utc_timestamp'].dt.year\n",
    "predictions_pd['month'] = predictions_pd['utc_timestamp'].dt.month\n",
    "\n",
    "years = predictions_pd['year'].unique()\n",
    "for year in years:\n",
    "    yearly_data = predictions_pd[predictions_pd['year'] == year]\n",
    "\n",
    "    months = yearly_data['month'].unique()\n",
    "\n",
    "    for month in months:\n",
    "        monthly_data = yearly_data[yearly_data['month'] == month]\n",
    "\n",
    "        plt.figure(figsize=(12, 6))\n",
    "        plt.plot(monthly_data['utc_timestamp'],\n",
    "                 monthly_data['energy_consumption'],\n",
    "                 label=\"Actual\")\n",
    "        plt.plot(monthly_data['utc_timestamp'],\n",
    "                 monthly_data['prediction'],\n",
    "                 label=\"Predicted\",\n",
    "                 linestyle=\"--\")\n",
    "        plt.xlabel(\"Timestamp\")\n",
    "        plt.ylabel(\"Energy Consumption\")\n",
    "        plt.title(\n",
    "            f\"Energy Consumption in {year}-{month:02d}: Actual vs Predicted\")\n",
    "        plt.legend()\n",
    "        plt.xticks(rotation=45)\n",
    "\n",
    "        plt.savefig(f'energy_consumption_plot_{year}_{month:02d}.png')\n",
    "        plt.show()\n",
    "\n",
    "%matplot plt"
   ]
  },
  {
   "cell_type": "code",
   "execution_count": null,
   "id": "802c5871-311d-4242-bee6-db73fbad4251",
   "metadata": {
    "execution": {
     "iopub.execute_input": "2025-02-16T17:40:20.280044Z",
     "iopub.status.busy": "2025-02-16T17:40:20.279697Z",
     "iopub.status.idle": "2025-02-16T17:40:20.339915Z",
     "shell.execute_reply": "2025-02-16T17:40:20.338974Z",
     "shell.execute_reply.started": "2025-02-16T17:40:20.279999Z"
    }
   },
   "outputs": [],
   "source": [
    "def generate_random_date(start_date, end_date):\n",
    "    delta_days = (end_date - start_date).days\n",
    "    random_days = random.randint(0, delta_days)\n",
    "    random_date = start_date + timedelta(days=random_days)\n",
    "    return random_date"
   ]
  },
  {
   "cell_type": "code",
   "execution_count": null,
   "id": "c20accf8-3f48-432a-affb-ec00b89aabd8",
   "metadata": {
    "execution": {
     "iopub.execute_input": "2025-02-16T17:41:40.174101Z",
     "iopub.status.busy": "2025-02-16T17:41:40.173766Z",
     "iopub.status.idle": "2025-02-16T17:41:42.461231Z",
     "shell.execute_reply": "2025-02-16T17:41:42.460439Z",
     "shell.execute_reply.started": "2025-02-16T17:41:40.174059Z"
    },
    "tags": []
   },
   "outputs": [],
   "source": [
    "start_date = datetime(2015, 1, 1)\n",
    "end_date = datetime(2020, 12, 30)\n",
    "\n",
    "random_date = generate_random_date(start_date, end_date)\n",
    "print(f\"Random date: {random_date}\")\n",
    "\n",
    "random_date_str = random_date.strftime(\"%Y-%m-%d\")\n",
    "\n",
    "df_random_day = df_lagged.filter(F.to_date(df_lagged[\"utc_timestamp\"]) == random_date_str)\n",
    "\n",
    "df_random_day.show()\n"
   ]
  },
  {
   "cell_type": "code",
   "execution_count": null,
   "id": "23630329-9343-4b7a-9d41-93ddaba7b46a",
   "metadata": {
    "execution": {
     "iopub.execute_input": "2025-02-16T17:41:45.713531Z",
     "iopub.status.busy": "2025-02-16T17:41:45.713307Z",
     "iopub.status.idle": "2025-02-16T17:41:51.048165Z",
     "shell.execute_reply": "2025-02-16T17:41:51.047491Z",
     "shell.execute_reply.started": "2025-02-16T17:41:45.713507Z"
    },
    "tags": []
   },
   "outputs": [],
   "source": [
    "rows = df_random_day.orderBy(\"utc_timestamp\").collect()\n",
    "\n",
    "lag_1 = rows[0]['lag_1']\n",
    "lag_2 = rows[0]['lag_2']\n",
    "lag_3 = rows[0]['lag_3']\n",
    "\n",
    "predictions = []\n",
    "actual_values = []\n",
    "\n",
    "for i in range(len(rows)):\n",
    "    current_row = rows[i].asDict()  \n",
    "    current_row['lag_1'] = lag_1\n",
    "    current_row['lag_2'] = lag_2\n",
    "    current_row['lag_3'] = lag_3\n",
    "\n",
    "    new_df = spark.createDataFrame([current_row])\n",
    "\n",
    "    pred = model.transform(new_df)\n",
    "\n",
    "    prediction_value = round(pred.select(\"prediction\").collect()[0]['prediction'], 2)\n",
    "\n",
    "    predictions.append(prediction_value)\n",
    "    actual_values.append(current_row['energy_consumption'])\n",
    "\n",
    "    lag_3 = lag_2\n",
    "    lag_2 = lag_1\n",
    "    lag_1 = prediction_value \n",
    "\n",
    "pred_df = pd.DataFrame({\n",
    "    'utc_timestamp': [row['utc_timestamp'] for row in rows],\n",
    "    'actual': actual_values,\n",
    "    'prediction': predictions\n",
    "})\n",
    "\n",
    "plt.figure(figsize=(12, 6))\n",
    "plt.plot(pred_df['utc_timestamp'], pred_df['actual'], label='Energy Consumption', color='blue')\n",
    "plt.plot(pred_df['utc_timestamp'], pred_df['prediction'], label='Predicted', color='orange', linestyle='--')\n",
    "plt.xlabel('Timestamp')\n",
    "plt.ylabel('Energy Consumption')\n",
    "plt.title('Energy Consumption: Actual vs Predicted')\n",
    "plt.legend()\n",
    "plt.xticks(rotation=45)\n",
    "plt.show()\n",
    "%matplot plt"
   ]
  }
 ],
 "metadata": {
  "kernelspec": {
   "display_name": "PySpark",
   "language": "python",
   "name": "pysparkkernel"
  },
  "language_info": {
   "codemirror_mode": {
    "name": "python",
    "version": 3
   },
   "file_extension": ".py",
   "mimetype": "text/x-python",
   "name": "pyspark",
   "pygments_lexer": "python3"
  }
 },
 "nbformat": 4,
 "nbformat_minor": 5
}
