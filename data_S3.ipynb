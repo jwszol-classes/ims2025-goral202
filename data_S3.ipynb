{
 "cells": [
  {
   "cell_type": "code",
   "execution_count": null,
   "id": "e1631339-afb2-4c3a-9131-2cf067609420",
   "metadata": {
    "execution": {
     "iopub.execute_input": "2025-02-12T20:17:57.222911Z",
     "iopub.status.busy": "2025-02-12T20:17:57.222640Z",
     "iopub.status.idle": "2025-02-12T20:18:32.875583Z",
     "shell.execute_reply": "2025-02-12T20:18:32.874971Z",
     "shell.execute_reply.started": "2025-02-12T20:17:57.222874Z"
    },
    "tags": []
   },
   "outputs": [],
   "source": [
    "from pyspark.sql import SparkSession"
   ]
  },
  {
   "cell_type": "code",
   "execution_count": null,
   "id": "fa322dd5-62d7-47ba-90e0-d4672b8aee2e",
   "metadata": {
    "execution": {
     "iopub.execute_input": "2025-02-12T20:18:39.398587Z",
     "iopub.status.busy": "2025-02-12T20:18:39.398253Z",
     "iopub.status.idle": "2025-02-12T20:18:39.447745Z",
     "shell.execute_reply": "2025-02-12T20:18:39.447174Z",
     "shell.execute_reply.started": "2025-02-12T20:18:39.398546Z"
    },
    "tags": []
   },
   "outputs": [],
   "source": [
    "spark = SparkSession.builder.appName(\"EnergyConsumptionAnalysis\").getOrCreate()"
   ]
  },
  {
   "cell_type": "code",
   "execution_count": null,
   "id": "3e7f79ce-9e64-4e53-972e-df5fed9525a4",
   "metadata": {
    "execution": {
     "iopub.execute_input": "2025-02-12T20:10:19.788251Z",
     "iopub.status.busy": "2025-02-12T20:10:19.787937Z",
     "iopub.status.idle": "2025-02-12T20:10:19.792305Z",
     "shell.execute_reply": "2025-02-12T20:10:19.791158Z",
     "shell.execute_reply.started": "2025-02-12T20:10:19.788222Z"
    },
    "tags": []
   },
   "outputs": [],
   "source": [
    "import boto3\n",
    "import requests"
   ]
  },
  {
   "cell_type": "code",
   "execution_count": null,
   "id": "ebde186f-9c85-414c-aaa0-1c85d20bda0f",
   "metadata": {
    "execution": {
     "iopub.execute_input": "2025-02-12T20:18:52.509011Z",
     "iopub.status.busy": "2025-02-12T20:18:52.508787Z",
     "iopub.status.idle": "2025-02-12T20:18:52.558960Z",
     "shell.execute_reply": "2025-02-12T20:18:52.558373Z",
     "shell.execute_reply.started": "2025-02-12T20:18:52.508982Z"
    },
    "tags": []
   },
   "outputs": [],
   "source": [
    "data_url = \"https://data.open-power-system-data.org/time_series/opsd-time_series-2020-10-06.zip\"\n",
    "\n",
    "s3_bucket = \"aws-emr-studio-624855134767-us-east-1\"\n",
    "s3_key = \"data/opsd-time_series.zip\"  "
   ]
  },
  {
   "cell_type": "code",
   "execution_count": null,
   "id": "9241d35b-02cc-4635-be0f-ee6126c08c04",
   "metadata": {
    "execution": {
     "iopub.execute_input": "2025-02-12T20:10:38.649918Z",
     "iopub.status.busy": "2025-02-12T20:10:38.649593Z",
     "iopub.status.idle": "2025-02-12T20:10:55.549245Z",
     "shell.execute_reply": "2025-02-12T20:10:55.548522Z",
     "shell.execute_reply.started": "2025-02-12T20:10:38.649889Z"
    },
    "tags": []
   },
   "outputs": [],
   "source": [
    "s3_client = boto3.client(\"s3\")\n",
    "response = requests.get(data_url, stream=True)\n",
    "\n",
    "s3_client.upload_fileobj(response.raw, s3_bucket, s3_key)\n"
   ]
  },
  {
   "cell_type": "code",
   "execution_count": null,
   "id": "7f4abfb0-4143-4e7a-b13c-94e1c9b9b1a1",
   "metadata": {
    "execution": {
     "iopub.execute_input": "2025-02-12T20:11:38.660266Z",
     "iopub.status.busy": "2025-02-12T20:11:38.659965Z",
     "iopub.status.idle": "2025-02-12T20:11:38.663713Z",
     "shell.execute_reply": "2025-02-12T20:11:38.662909Z",
     "shell.execute_reply.started": "2025-02-12T20:11:38.660241Z"
    }
   },
   "outputs": [],
   "source": [
    "import zipfile\n",
    "import os\n",
    "import io"
   ]
  },
  {
   "cell_type": "code",
   "execution_count": null,
   "id": "d1e07f06-c8fc-418a-bc9f-279850cd94e8",
   "metadata": {
    "execution": {
     "iopub.execute_input": "2025-02-12T20:19:01.351609Z",
     "iopub.status.busy": "2025-02-12T20:19:01.351387Z",
     "iopub.status.idle": "2025-02-12T20:19:01.603465Z",
     "shell.execute_reply": "2025-02-12T20:19:01.602769Z",
     "shell.execute_reply.started": "2025-02-12T20:19:01.351584Z"
    },
    "tags": []
   },
   "outputs": [],
   "source": [
    "s3_object = s3_client.get_object(Bucket=s3_bucket, Key=s3_key)\n",
    "zip_content = io.BytesIO(s3_object[\"Body\"].read())\n",
    "\n",
    "with zipfile.ZipFile(zip_content, \"r\") as zip_ref:\n",
    "    extracted_files = zip_ref.namelist()\n",
    "\n",
    "    for file_name in extracted_files:\n",
    "        with zip_ref.open(file_name) as file_data:\n",
    "            s3_client.upload_fileobj(file_data, s3_bucket, f\"data/{file_name}\")\n",
    "\n"
   ]
  },
  {
   "cell_type": "code",
   "execution_count": null,
   "id": "93d22f50-6a95-4fdb-9039-c41cd08a0086",
   "metadata": {
    "execution": {
     "iopub.execute_input": "2025-02-12T20:13:58.418640Z",
     "iopub.status.busy": "2025-02-12T20:13:58.418328Z",
     "iopub.status.idle": "2025-02-12T20:13:58.474067Z",
     "shell.execute_reply": "2025-02-12T20:13:58.473292Z",
     "shell.execute_reply.started": "2025-02-12T20:13:58.418613Z"
    },
    "tags": []
   },
   "outputs": [],
   "source": [
    "s3_bucket = \"aws-emr-studio-624855134767-us-east-1\"\n",
    "s3_prefix = \"data/\"\n",
    "response = s3_client.list_objects_v2(Bucket=s3_bucket, Prefix=s3_prefix)\n",
    "\n",
    "if \"Contents\" in response:\n",
    "    for obj in response[\"Contents\"]:\n",
    "        print(obj[\"Key\"])\n",
    "else:\n",
    "    print(\"No files in the directory\")"
   ]
  }
 ],
 "metadata": {
  "kernelspec": {
   "display_name": "Python 3",
   "language": "python",
   "name": "python3"
  },
  "language_info": {
   "codemirror_mode": {
    "name": "ipython",
    "version": 3
   },
   "file_extension": ".py",
   "mimetype": "text/x-python",
   "name": "python",
   "nbconvert_exporter": "python",
   "pygments_lexer": "ipython3",
   "version": "3.9.21"
  }
 },
 "nbformat": 4,
 "nbformat_minor": 5
}
